{
  "cells": [
    {
      "cell_type": "markdown",
      "metadata": {
        "id": "view-in-github",
        "colab_type": "text"
      },
      "source": [
        "<a href=\"https://colab.research.google.com/github/mustafabozkaya/arge-odakli-yapay-zeka-egitimi2-sorulari/blob/main/movie_recommender.ipynb\" target=\"_parent\"><img src=\"https://colab.research.google.com/assets/colab-badge.svg\" alt=\"Open In Colab\"/></a>"
      ]
    },
    {
      "cell_type": "code",
      "execution_count": 8,
      "id": "c2acc175",
      "metadata": {
        "_cell_guid": "b1076dfc-b9ad-4769-8c92-a6c4dae69d19",
        "_uuid": "8f2839f25d086af736a60e9eeb907d3b93b6e0e5",
        "execution": {
          "iopub.execute_input": "2022-10-24T14:49:37.983969Z",
          "iopub.status.busy": "2022-10-24T14:49:37.983427Z",
          "iopub.status.idle": "2022-10-24T14:49:38.003001Z",
          "shell.execute_reply": "2022-10-24T14:49:38.002078Z"
        },
        "papermill": {
          "duration": 0.028246,
          "end_time": "2022-10-24T14:49:38.005379",
          "exception": false,
          "start_time": "2022-10-24T14:49:37.977133",
          "status": "completed"
        },
        "tags": [],
        "id": "c2acc175"
      },
      "outputs": [],
      "source": [
        "import os\n",
        "for dirname, _, filenames in os.walk(''):\n",
        "    for filename in filenames:\n",
        "        print(os.path.join(dirname, filename))\n"
      ]
    },
    {
      "cell_type": "code",
      "execution_count": 3,
      "id": "f3a9ad6f",
      "metadata": {
        "execution": {
          "iopub.execute_input": "2022-10-24T14:49:38.015208Z",
          "iopub.status.busy": "2022-10-24T14:49:38.014488Z",
          "iopub.status.idle": "2022-10-24T14:49:38.281865Z",
          "shell.execute_reply": "2022-10-24T14:49:38.280131Z"
        },
        "papermill": {
          "duration": 0.275104,
          "end_time": "2022-10-24T14:49:38.284527",
          "exception": false,
          "start_time": "2022-10-24T14:49:38.009423",
          "status": "completed"
        },
        "tags": [],
        "colab": {
          "base_uri": "https://localhost:8080/"
        },
        "id": "f3a9ad6f",
        "outputId": "b3f773dd-ca03-4217-931c-b504846d2297"
      },
      "outputs": [
        {
          "output_type": "stream",
          "name": "stdout",
          "text": [
            "/content/working\n"
          ]
        }
      ],
      "source": [
        "!mkdir working\n",
        "%cd working\n"
      ]
    },
    {
      "cell_type": "code",
      "execution_count": 4,
      "id": "3cd8d06a",
      "metadata": {
        "execution": {
          "iopub.execute_input": "2022-10-24T14:49:38.294905Z",
          "iopub.status.busy": "2022-10-24T14:49:38.293341Z",
          "iopub.status.idle": "2022-10-24T14:49:38.303982Z",
          "shell.execute_reply": "2022-10-24T14:49:38.303023Z"
        },
        "papermill": {
          "duration": 0.017608,
          "end_time": "2022-10-24T14:49:38.305960",
          "exception": false,
          "start_time": "2022-10-24T14:49:38.288352",
          "status": "completed"
        },
        "tags": [],
        "colab": {
          "base_uri": "https://localhost:8080/",
          "height": 35
        },
        "id": "3cd8d06a",
        "outputId": "081bb419-1ae6-47fe-a480-fbcf16eafc80"
      },
      "outputs": [
        {
          "output_type": "execute_result",
          "data": {
            "text/plain": [
              "'/content/working'"
            ],
            "application/vnd.google.colaboratory.intrinsic+json": {
              "type": "string"
            }
          },
          "metadata": {},
          "execution_count": 4
        }
      ],
      "source": [
        "%pwd"
      ]
    },
    {
      "cell_type": "code",
      "execution_count": 7,
      "id": "9526b445",
      "metadata": {
        "execution": {
          "iopub.execute_input": "2022-10-24T14:49:38.315317Z",
          "iopub.status.busy": "2022-10-24T14:49:38.314922Z",
          "iopub.status.idle": "2022-10-24T14:49:40.373317Z",
          "shell.execute_reply": "2022-10-24T14:49:40.372442Z"
        },
        "papermill": {
          "duration": 2.065954,
          "end_time": "2022-10-24T14:49:40.375712",
          "exception": false,
          "start_time": "2022-10-24T14:49:38.309758",
          "status": "completed"
        },
        "tags": [],
        "colab": {
          "base_uri": "https://localhost:8080/"
        },
        "id": "9526b445",
        "outputId": "2cef9ecb-e147-4be9-ae1c-0ee62d089f39"
      },
      "outputs": [
        {
          "output_type": "stream",
          "name": "stdout",
          "text": [
            "Cloning into 'arge-odakli-yapay-zeka-egitimi2-sorulari'...\n",
            "remote: Enumerating objects: 41, done.\u001b[K\n",
            "remote: Counting objects: 100% (41/41), done.\u001b[K\n",
            "remote: Compressing objects: 100% (37/37), done.\u001b[K\n",
            "remote: Total 41 (delta 10), reused 0 (delta 0), pack-reused 0\u001b[K\n",
            "Unpacking objects: 100% (41/41), done.\n"
          ]
        }
      ],
      "source": [
        "#!wget https://github.com/mustafabozkaya/arge-odakli-yapay-zeka-egitimi2-sorulari/tree/main/datasets/movies.csv datasets\n",
        "!git clone https://github.com/mustafabozkaya/arge-odakli-yapay-zeka-egitimi2-sorulari.git "
      ]
    },
    {
      "cell_type": "code",
      "execution_count": 9,
      "id": "06ef5f85",
      "metadata": {
        "execution": {
          "iopub.execute_input": "2022-10-24T14:49:40.386539Z",
          "iopub.status.busy": "2022-10-24T14:49:40.386144Z",
          "iopub.status.idle": "2022-10-24T14:49:41.802802Z",
          "shell.execute_reply": "2022-10-24T14:49:41.801291Z"
        },
        "papermill": {
          "duration": 1.425757,
          "end_time": "2022-10-24T14:49:41.806089",
          "exception": false,
          "start_time": "2022-10-24T14:49:40.380332",
          "status": "completed"
        },
        "tags": [],
        "id": "06ef5f85"
      },
      "outputs": [],
      "source": [
        "#!wget https://github.com/mustafabozkaya/arge-odakli-yapay-zeka-egitimi2-sorulari/tree/main/datasets/ratings.csv"
      ]
    },
    {
      "cell_type": "code",
      "execution_count": 10,
      "id": "a0b17980",
      "metadata": {
        "execution": {
          "iopub.execute_input": "2022-10-24T14:49:41.817720Z",
          "iopub.status.busy": "2022-10-24T14:49:41.817297Z",
          "iopub.status.idle": "2022-10-24T14:49:43.295638Z",
          "shell.execute_reply": "2022-10-24T14:49:43.294081Z"
        },
        "papermill": {
          "duration": 1.487218,
          "end_time": "2022-10-24T14:49:43.298293",
          "exception": false,
          "start_time": "2022-10-24T14:49:41.811075",
          "status": "completed"
        },
        "tags": [],
        "id": "a0b17980"
      },
      "outputs": [],
      "source": [
        "#!wget https://github.com/mustafabozkaya/arge-odakli-yapay-zeka-egitimi2-sorulari/tree/main/datasets/README.txt"
      ]
    },
    {
      "cell_type": "markdown",
      "id": "6f8edcd2",
      "metadata": {
        "papermill": {
          "duration": 0.005011,
          "end_time": "2022-10-24T14:49:43.308932",
          "exception": false,
          "start_time": "2022-10-24T14:49:43.303921",
          "status": "completed"
        },
        "tags": [],
        "id": "6f8edcd2"
      },
      "source": [
        "# **Load Library**"
      ]
    },
    {
      "cell_type": "code",
      "execution_count": 45,
      "id": "939d28db",
      "metadata": {
        "execution": {
          "iopub.execute_input": "2022-10-24T14:49:43.321313Z",
          "iopub.status.busy": "2022-10-24T14:49:43.320910Z",
          "iopub.status.idle": "2022-10-24T14:49:44.478388Z",
          "shell.execute_reply": "2022-10-24T14:49:44.477101Z"
        },
        "papermill": {
          "duration": 1.167041,
          "end_time": "2022-10-24T14:49:44.481091",
          "exception": false,
          "start_time": "2022-10-24T14:49:43.314050",
          "status": "completed"
        },
        "tags": [],
        "id": "939d28db"
      },
      "outputs": [],
      "source": [
        "\n",
        "import numpy as np # linear algebra\n",
        "import pandas as pd # data processing, CSV file I/O (e.g. pd.read_csv)\n",
        "\n",
        "import warnings\n",
        "warnings.filterwarnings(\"ignore\")\n",
        "import matplotlib.pyplot as plt\n",
        "from sklearn.metrics.pairwise import cosine_similarity\n",
        "import re\n",
        "from PIL import Image\n",
        "import requests\n",
        "import random\n",
        "from sklearn.feature_extraction.text import CountVectorizer\n",
        "\n"
      ]
    },
    {
      "cell_type": "code",
      "execution_count": 14,
      "id": "10222526",
      "metadata": {
        "execution": {
          "iopub.execute_input": "2022-10-24T14:49:44.494245Z",
          "iopub.status.busy": "2022-10-24T14:49:44.493030Z",
          "iopub.status.idle": "2022-10-24T14:49:55.136473Z",
          "shell.execute_reply": "2022-10-24T14:49:55.134745Z"
        },
        "papermill": {
          "duration": 10.652491,
          "end_time": "2022-10-24T14:49:55.139036",
          "exception": false,
          "start_time": "2022-10-24T14:49:44.486545",
          "status": "completed"
        },
        "tags": [],
        "id": "10222526"
      },
      "outputs": [],
      "source": [
        "!pip install -q nltk"
      ]
    },
    {
      "cell_type": "code",
      "execution_count": null,
      "id": "8f5045e9",
      "metadata": {
        "execution": {
          "iopub.execute_input": "2022-10-24T14:49:55.152650Z",
          "iopub.status.busy": "2022-10-24T14:49:55.152232Z",
          "iopub.status.idle": "2022-10-24T14:49:55.823017Z",
          "shell.execute_reply": "2022-10-24T14:49:55.821857Z"
        },
        "papermill": {
          "duration": 0.680464,
          "end_time": "2022-10-24T14:49:55.825292",
          "exception": false,
          "start_time": "2022-10-24T14:49:55.144828",
          "status": "completed"
        },
        "tags": [],
        "id": "8f5045e9"
      },
      "outputs": [],
      "source": [
        "import nltk # Natural Language Tool Kit \n",
        "from nltk.corpus import stopwords # Stopwords corpus is a list of commonly used words in a language"
      ]
    },
    {
      "cell_type": "code",
      "execution_count": 12,
      "id": "ede16e53",
      "metadata": {
        "execution": {
          "iopub.execute_input": "2022-10-24T14:49:55.837831Z",
          "iopub.status.busy": "2022-10-24T14:49:55.837505Z",
          "iopub.status.idle": "2022-10-24T14:49:55.845105Z",
          "shell.execute_reply": "2022-10-24T14:49:55.844094Z"
        },
        "papermill": {
          "duration": 0.016367,
          "end_time": "2022-10-24T14:49:55.847205",
          "exception": false,
          "start_time": "2022-10-24T14:49:55.830838",
          "status": "completed"
        },
        "tags": [],
        "colab": {
          "base_uri": "https://localhost:8080/"
        },
        "id": "ede16e53",
        "outputId": "21c7d66e-7173-4606-ff9c-25f7f001f995"
      },
      "outputs": [
        {
          "output_type": "execute_result",
          "data": {
            "text/plain": [
              "['movies.csv', 'README.txt', 'ratings.csv']"
            ]
          },
          "metadata": {},
          "execution_count": 12
        }
      ],
      "source": [
        "os.listdir(\"./arge-odakli-yapay-zeka-egitimi2-sorulari/datasets/\")"
      ]
    },
    {
      "cell_type": "code",
      "execution_count": 13,
      "id": "c6a0c08d",
      "metadata": {
        "papermill": {
          "duration": 0.005213,
          "end_time": "2022-10-24T14:49:55.858065",
          "exception": false,
          "start_time": "2022-10-24T14:49:55.852852",
          "status": "completed"
        },
        "tags": [],
        "colab": {
          "base_uri": "https://localhost:8080/"
        },
        "id": "c6a0c08d",
        "outputId": "aba93ff2-715e-4de8-ab43-738e85a5384e"
      },
      "outputs": [
        {
          "output_type": "stream",
          "name": "stdout",
          "text": [
            "# Araştırma ve Geliştirme Odaklı Yapay Zeka Eğitimi Soruları\n",
            "\n",
            "\n",
            "Başvuru kabulü için size sorulan soruyu çözmenizden çok, o soruyu çözmek için ne kadar uğraştığınız önemlidir. Motivasyonu yüksek gençlerle çalışmak çok farklı, bunu biliyoruz, sizi önemsiyoruz ve bekliyoruz.\n",
            " \n",
            "## Soru - Film Önerme\n",
            "MovieLens verisetini kullanarak kişilere film önerisi yapan bir fonksiyon geliştirmeniz beklenmektedir. Aşağıdaki notebook'u temel alarak çalışmanızı yapabilirsiniz. \n",
            "\n",
            "- [Film Önerme](https://github.com/kaveai/arge-odakli-yapay-zeka-egitimi2-sorulari/blob/main/Soru1.ipynb)\n"
          ]
        }
      ],
      "source": [
        "!cat ./arge-odakli-yapay-zeka-egitimi2-sorulari/README.md"
      ]
    },
    {
      "cell_type": "markdown",
      "source": [
        "## Data Story"
      ],
      "metadata": {
        "id": "AeUHqBSYjrgs"
      },
      "id": "AeUHqBSYjrgs"
    },
    {
      "cell_type": "code",
      "source": [
        "!cat ./arge-odakli-yapay-zeka-egitimi2-sorulari/datasets/README.txt"
      ],
      "metadata": {
        "colab": {
          "base_uri": "https://localhost:8080/"
        },
        "id": "N8IdHvdrjlvG",
        "outputId": "85954144-b6a9-47bd-c6ef-56e9f85bd6f0"
      },
      "id": "N8IdHvdrjlvG",
      "execution_count": 15,
      "outputs": [
        {
          "output_type": "stream",
          "name": "stdout",
          "text": [
            "Summary\n",
            "=======\n",
            "\n",
            "This dataset (ml-latest-small) describes 5-star rating and free-text tagging activity from [MovieLens](http://movielens.org), a movie recommendation service. It contains 100836 ratings and 3683 tag applications across 9742 movies. These data were created by 610 users between March 29, 1996 and September 24, 2018. This dataset was generated on September 26, 2018.\n",
            "\n",
            "Users were selected at random for inclusion. All selected users had rated at least 20 movies. No demographic information is included. Each user is represented by an id, and no other information is provided.\n",
            "\n",
            "The data are contained in the files `links.csv`, `movies.csv`, `ratings.csv` and `tags.csv`. More details about the contents and use of all these files follows.\n",
            "\n",
            "This is a *development* dataset. As such, it may change over time and is not an appropriate dataset for shared research results. See available *benchmark* datasets if that is your intent.\n",
            "\n",
            "This and other GroupLens data sets are publicly available for download at <http://grouplens.org/datasets/>.\n",
            "\n",
            "\n",
            "Usage License\n",
            "=============\n",
            "\n",
            "Neither the University of Minnesota nor any of the researchers involved can guarantee the correctness of the data, its suitability for any particular purpose, or the validity of results based on the use of the data set. The data set may be used for any research purposes under the following conditions:\n",
            "\n",
            "* The user may not state or imply any endorsement from the University of Minnesota or the GroupLens Research Group.\n",
            "* The user must acknowledge the use of the data set in publications resulting from the use of the data set (see below for citation information).\n",
            "* The user may redistribute the data set, including transformations, so long as it is distributed under these same license conditions.\n",
            "* The user may not use this information for any commercial or revenue-bearing purposes without first obtaining permission from a faculty member of the GroupLens Research Project at the University of Minnesota.\n",
            "* The executable software scripts are provided \"as is\" without warranty of any kind, either expressed or implied, including, but not limited to, the implied warranties of merchantability and fitness for a particular purpose. The entire risk as to the quality and performance of them is with you. Should the program prove defective, you assume the cost of all necessary servicing, repair or correction.\n",
            "\n",
            "In no event shall the University of Minnesota, its affiliates or employees be liable to you for any damages arising out of the use or inability to use these programs (including but not limited to loss of data or data being rendered inaccurate).\n",
            "\n",
            "If you have any further questions or comments, please email <grouplens-info@umn.edu>\n",
            "\n",
            "\n",
            "Citation\n",
            "========\n",
            "\n",
            "To acknowledge use of the dataset in publications, please cite the following paper:\n",
            "\n",
            "> F. Maxwell Harper and Joseph A. Konstan. 2015. The MovieLens Datasets: History and Context. ACM Transactions on Interactive Intelligent Systems (TiiS) 5, 4: 19:1–19:19. <https://doi.org/10.1145/2827872>\n",
            "\n",
            "\n",
            "Further Information About GroupLens\n",
            "===================================\n",
            "\n",
            "GroupLens is a research group in the Department of Computer Science and Engineering at the University of Minnesota. Since its inception in 1992, GroupLens's research projects have explored a variety of fields including:\n",
            "\n",
            "* recommender systems\n",
            "* online communities\n",
            "* mobile and ubiquitious technologies\n",
            "* digital libraries\n",
            "* local geographic information systems\n",
            "\n",
            "GroupLens Research operates a movie recommender based on collaborative filtering, MovieLens, which is the source of these data. We encourage you to visit <http://movielens.org> to try it out! If you have exciting ideas for experimental work to conduct on MovieLens, send us an email at <grouplens-info@cs.umn.edu> - we are always interested in working with external collaborators.\n",
            "\n",
            "\n",
            "Content and Use of Files\n",
            "========================\n",
            "\n",
            "Formatting and Encoding\n",
            "-----------------------\n",
            "\n",
            "The dataset files are written as [comma-separated values](http://en.wikipedia.org/wiki/Comma-separated_values) files with a single header row. Columns that contain commas (`,`) are escaped using double-quotes (`\"`). These files are encoded as UTF-8. If accented characters in movie titles or tag values (e.g. Misérables, Les (1995)) display incorrectly, make sure that any program reading the data, such as a text editor, terminal, or script, is configured for UTF-8.\n",
            "\n",
            "\n",
            "User Ids\n",
            "--------\n",
            "\n",
            "MovieLens users were selected at random for inclusion. Their ids have been anonymized. User ids are consistent between `ratings.csv` and `tags.csv` (i.e., the same id refers to the same user across the two files).\n",
            "\n",
            "\n",
            "Movie Ids\n",
            "---------\n",
            "\n",
            "Only movies with at least one rating or tag are included in the dataset. These movie ids are consistent with those used on the MovieLens web site (e.g., id `1` corresponds to the URL <https://movielens.org/movies/1>). Movie ids are consistent between `ratings.csv`, `tags.csv`, `movies.csv`, and `links.csv` (i.e., the same id refers to the same movie across these four data files).\n",
            "\n",
            "\n",
            "Ratings Data File Structure (ratings.csv)\n",
            "-----------------------------------------\n",
            "\n",
            "All ratings are contained in the file `ratings.csv`. Each line of this file after the header row represents one rating of one movie by one user, and has the following format:\n",
            "\n",
            "    userId,movieId,rating,timestamp\n",
            "\n",
            "The lines within this file are ordered first by userId, then, within user, by movieId.\n",
            "\n",
            "Ratings are made on a 5-star scale, with half-star increments (0.5 stars - 5.0 stars).\n",
            "\n",
            "Timestamps represent seconds since midnight Coordinated Universal Time (UTC) of January 1, 1970.\n",
            "\n",
            "\n",
            "Tags Data File Structure (tags.csv)\n",
            "-----------------------------------\n",
            "\n",
            "All tags are contained in the file `tags.csv`. Each line of this file after the header row represents one tag applied to one movie by one user, and has the following format:\n",
            "\n",
            "    userId,movieId,tag,timestamp\n",
            "\n",
            "The lines within this file are ordered first by userId, then, within user, by movieId.\n",
            "\n",
            "Tags are user-generated metadata about movies. Each tag is typically a single word or short phrase. The meaning, value, and purpose of a particular tag is determined by each user.\n",
            "\n",
            "Timestamps represent seconds since midnight Coordinated Universal Time (UTC) of January 1, 1970.\n",
            "\n",
            "\n",
            "Movies Data File Structure (movies.csv)\n",
            "---------------------------------------\n",
            "\n",
            "Movie information is contained in the file `movies.csv`. Each line of this file after the header row represents one movie, and has the following format:\n",
            "\n",
            "    movieId,title,genres\n",
            "\n",
            "Movie titles are entered manually or imported from <https://www.themoviedb.org/>, and include the year of release in parentheses. Errors and inconsistencies may exist in these titles.\n",
            "\n",
            "Genres are a pipe-separated list, and are selected from the following:\n",
            "\n",
            "* Action\n",
            "* Adventure\n",
            "* Animation\n",
            "* Children's\n",
            "* Comedy\n",
            "* Crime\n",
            "* Documentary\n",
            "* Drama\n",
            "* Fantasy\n",
            "* Film-Noir\n",
            "* Horror\n",
            "* Musical\n",
            "* Mystery\n",
            "* Romance\n",
            "* Sci-Fi\n",
            "* Thriller\n",
            "* War\n",
            "* Western\n",
            "* (no genres listed)\n",
            "\n",
            "\n",
            "Links Data File Structure (links.csv)\n",
            "---------------------------------------\n",
            "\n",
            "Identifiers that can be used to link to other sources of movie data are contained in the file `links.csv`. Each line of this file after the header row represents one movie, and has the following format:\n",
            "\n",
            "    movieId,imdbId,tmdbId\n",
            "\n",
            "movieId is an identifier for movies used by <https://movielens.org>. E.g., the movie Toy Story has the link <https://movielens.org/movies/1>.\n",
            "\n",
            "imdbId is an identifier for movies used by <http://www.imdb.com>. E.g., the movie Toy Story has the link <http://www.imdb.com/title/tt0114709/>.\n",
            "\n",
            "tmdbId is an identifier for movies used by <https://www.themoviedb.org>. E.g., the movie Toy Story has the link <https://www.themoviedb.org/movie/862>.\n",
            "\n",
            "Use of the resources listed above is subject to the terms of each provider.\n",
            "\n",
            "\n",
            "Cross-Validation\n",
            "----------------\n",
            "\n",
            "Prior versions of the MovieLens dataset included either pre-computed cross-folds or scripts to perform this computation. We no longer bundle either of these features with the dataset, since most modern toolkits provide this as a built-in feature. If you wish to learn about standard approaches to cross-fold computation in the context of recommender systems evaluation, see [LensKit](http://lenskit.org) for tools, documentation, and open-source code examples.\n"
          ]
        }
      ]
    },
    {
      "cell_type": "markdown",
      "source": [
        "## Load & Check Datasets"
      ],
      "metadata": {
        "id": "hR4lkGYflSGs"
      },
      "id": "hR4lkGYflSGs"
    },
    {
      "cell_type": "code",
      "source": [
        "dataset_dir=\"./arge-odakli-yapay-zeka-egitimi2-sorulari/datasets/\""
      ],
      "metadata": {
        "id": "2uaoguK-kIAN"
      },
      "id": "2uaoguK-kIAN",
      "execution_count": 16,
      "outputs": []
    },
    {
      "cell_type": "code",
      "execution_count": 17,
      "id": "cc318e9c",
      "metadata": {
        "execution": {
          "iopub.execute_input": "2022-10-24T14:49:55.870395Z",
          "iopub.status.busy": "2022-10-24T14:49:55.869964Z",
          "iopub.status.idle": "2022-10-24T14:49:56.028666Z",
          "shell.execute_reply": "2022-10-24T14:49:56.026871Z"
        },
        "papermill": {
          "duration": 0.167826,
          "end_time": "2022-10-24T14:49:56.031253",
          "exception": true,
          "start_time": "2022-10-24T14:49:55.863427",
          "status": "failed"
        },
        "tags": [],
        "colab": {
          "base_uri": "https://localhost:8080/",
          "height": 206
        },
        "id": "cc318e9c",
        "outputId": "1fc365fa-292c-47c8-b2d5-64cddfa2c9e6"
      },
      "outputs": [
        {
          "output_type": "execute_result",
          "data": {
            "text/plain": [
              "   movieId                               title  \\\n",
              "0        1                    Toy Story (1995)   \n",
              "1        2                      Jumanji (1995)   \n",
              "2        3             Grumpier Old Men (1995)   \n",
              "3        4            Waiting to Exhale (1995)   \n",
              "4        5  Father of the Bride Part II (1995)   \n",
              "\n",
              "                                        genres  \n",
              "0  Adventure|Animation|Children|Comedy|Fantasy  \n",
              "1                   Adventure|Children|Fantasy  \n",
              "2                               Comedy|Romance  \n",
              "3                         Comedy|Drama|Romance  \n",
              "4                                       Comedy  "
            ],
            "text/html": [
              "\n",
              "  <div id=\"df-d8271d43-6e7c-44d3-b77f-2026724655a2\">\n",
              "    <div class=\"colab-df-container\">\n",
              "      <div>\n",
              "<style scoped>\n",
              "    .dataframe tbody tr th:only-of-type {\n",
              "        vertical-align: middle;\n",
              "    }\n",
              "\n",
              "    .dataframe tbody tr th {\n",
              "        vertical-align: top;\n",
              "    }\n",
              "\n",
              "    .dataframe thead th {\n",
              "        text-align: right;\n",
              "    }\n",
              "</style>\n",
              "<table border=\"1\" class=\"dataframe\">\n",
              "  <thead>\n",
              "    <tr style=\"text-align: right;\">\n",
              "      <th></th>\n",
              "      <th>movieId</th>\n",
              "      <th>title</th>\n",
              "      <th>genres</th>\n",
              "    </tr>\n",
              "  </thead>\n",
              "  <tbody>\n",
              "    <tr>\n",
              "      <th>0</th>\n",
              "      <td>1</td>\n",
              "      <td>Toy Story (1995)</td>\n",
              "      <td>Adventure|Animation|Children|Comedy|Fantasy</td>\n",
              "    </tr>\n",
              "    <tr>\n",
              "      <th>1</th>\n",
              "      <td>2</td>\n",
              "      <td>Jumanji (1995)</td>\n",
              "      <td>Adventure|Children|Fantasy</td>\n",
              "    </tr>\n",
              "    <tr>\n",
              "      <th>2</th>\n",
              "      <td>3</td>\n",
              "      <td>Grumpier Old Men (1995)</td>\n",
              "      <td>Comedy|Romance</td>\n",
              "    </tr>\n",
              "    <tr>\n",
              "      <th>3</th>\n",
              "      <td>4</td>\n",
              "      <td>Waiting to Exhale (1995)</td>\n",
              "      <td>Comedy|Drama|Romance</td>\n",
              "    </tr>\n",
              "    <tr>\n",
              "      <th>4</th>\n",
              "      <td>5</td>\n",
              "      <td>Father of the Bride Part II (1995)</td>\n",
              "      <td>Comedy</td>\n",
              "    </tr>\n",
              "  </tbody>\n",
              "</table>\n",
              "</div>\n",
              "      <button class=\"colab-df-convert\" onclick=\"convertToInteractive('df-d8271d43-6e7c-44d3-b77f-2026724655a2')\"\n",
              "              title=\"Convert this dataframe to an interactive table.\"\n",
              "              style=\"display:none;\">\n",
              "        \n",
              "  <svg xmlns=\"http://www.w3.org/2000/svg\" height=\"24px\"viewBox=\"0 0 24 24\"\n",
              "       width=\"24px\">\n",
              "    <path d=\"M0 0h24v24H0V0z\" fill=\"none\"/>\n",
              "    <path d=\"M18.56 5.44l.94 2.06.94-2.06 2.06-.94-2.06-.94-.94-2.06-.94 2.06-2.06.94zm-11 1L8.5 8.5l.94-2.06 2.06-.94-2.06-.94L8.5 2.5l-.94 2.06-2.06.94zm10 10l.94 2.06.94-2.06 2.06-.94-2.06-.94-.94-2.06-.94 2.06-2.06.94z\"/><path d=\"M17.41 7.96l-1.37-1.37c-.4-.4-.92-.59-1.43-.59-.52 0-1.04.2-1.43.59L10.3 9.45l-7.72 7.72c-.78.78-.78 2.05 0 2.83L4 21.41c.39.39.9.59 1.41.59.51 0 1.02-.2 1.41-.59l7.78-7.78 2.81-2.81c.8-.78.8-2.07 0-2.86zM5.41 20L4 18.59l7.72-7.72 1.47 1.35L5.41 20z\"/>\n",
              "  </svg>\n",
              "      </button>\n",
              "      \n",
              "  <style>\n",
              "    .colab-df-container {\n",
              "      display:flex;\n",
              "      flex-wrap:wrap;\n",
              "      gap: 12px;\n",
              "    }\n",
              "\n",
              "    .colab-df-convert {\n",
              "      background-color: #E8F0FE;\n",
              "      border: none;\n",
              "      border-radius: 50%;\n",
              "      cursor: pointer;\n",
              "      display: none;\n",
              "      fill: #1967D2;\n",
              "      height: 32px;\n",
              "      padding: 0 0 0 0;\n",
              "      width: 32px;\n",
              "    }\n",
              "\n",
              "    .colab-df-convert:hover {\n",
              "      background-color: #E2EBFA;\n",
              "      box-shadow: 0px 1px 2px rgba(60, 64, 67, 0.3), 0px 1px 3px 1px rgba(60, 64, 67, 0.15);\n",
              "      fill: #174EA6;\n",
              "    }\n",
              "\n",
              "    [theme=dark] .colab-df-convert {\n",
              "      background-color: #3B4455;\n",
              "      fill: #D2E3FC;\n",
              "    }\n",
              "\n",
              "    [theme=dark] .colab-df-convert:hover {\n",
              "      background-color: #434B5C;\n",
              "      box-shadow: 0px 1px 3px 1px rgba(0, 0, 0, 0.15);\n",
              "      filter: drop-shadow(0px 1px 2px rgba(0, 0, 0, 0.3));\n",
              "      fill: #FFFFFF;\n",
              "    }\n",
              "  </style>\n",
              "\n",
              "      <script>\n",
              "        const buttonEl =\n",
              "          document.querySelector('#df-d8271d43-6e7c-44d3-b77f-2026724655a2 button.colab-df-convert');\n",
              "        buttonEl.style.display =\n",
              "          google.colab.kernel.accessAllowed ? 'block' : 'none';\n",
              "\n",
              "        async function convertToInteractive(key) {\n",
              "          const element = document.querySelector('#df-d8271d43-6e7c-44d3-b77f-2026724655a2');\n",
              "          const dataTable =\n",
              "            await google.colab.kernel.invokeFunction('convertToInteractive',\n",
              "                                                     [key], {});\n",
              "          if (!dataTable) return;\n",
              "\n",
              "          const docLinkHtml = 'Like what you see? Visit the ' +\n",
              "            '<a target=\"_blank\" href=https://colab.research.google.com/notebooks/data_table.ipynb>data table notebook</a>'\n",
              "            + ' to learn more about interactive tables.';\n",
              "          element.innerHTML = '';\n",
              "          dataTable['output_type'] = 'display_data';\n",
              "          await google.colab.output.renderOutput(dataTable, element);\n",
              "          const docLink = document.createElement('div');\n",
              "          docLink.innerHTML = docLinkHtml;\n",
              "          element.appendChild(docLink);\n",
              "        }\n",
              "      </script>\n",
              "    </div>\n",
              "  </div>\n",
              "  "
            ]
          },
          "metadata": {},
          "execution_count": 17
        }
      ],
      "source": [
        "movies = pd.read_csv(dataset_dir+'movies.csv')\n",
        "movies.head()"
      ]
    },
    {
      "cell_type": "code",
      "execution_count": 36,
      "id": "19310664",
      "metadata": {
        "papermill": {
          "duration": null,
          "end_time": null,
          "exception": null,
          "start_time": null,
          "status": "pending"
        },
        "tags": [],
        "colab": {
          "base_uri": "https://localhost:8080/",
          "height": 206
        },
        "id": "19310664",
        "outputId": "ea1b1b82-ada0-4766-c7ca-1cf8484c5ead"
      },
      "outputs": [
        {
          "output_type": "execute_result",
          "data": {
            "text/plain": [
              "   userId  movieId  rating  timestamp\n",
              "0       1        1     4.0  964982703\n",
              "1       1        3     4.0  964981247\n",
              "2       1        6     4.0  964982224\n",
              "3       1       47     5.0  964983815\n",
              "4       1       50     5.0  964982931"
            ],
            "text/html": [
              "\n",
              "  <div id=\"df-cf618076-47bf-45fb-957e-3e75a690cd16\">\n",
              "    <div class=\"colab-df-container\">\n",
              "      <div>\n",
              "<style scoped>\n",
              "    .dataframe tbody tr th:only-of-type {\n",
              "        vertical-align: middle;\n",
              "    }\n",
              "\n",
              "    .dataframe tbody tr th {\n",
              "        vertical-align: top;\n",
              "    }\n",
              "\n",
              "    .dataframe thead th {\n",
              "        text-align: right;\n",
              "    }\n",
              "</style>\n",
              "<table border=\"1\" class=\"dataframe\">\n",
              "  <thead>\n",
              "    <tr style=\"text-align: right;\">\n",
              "      <th></th>\n",
              "      <th>userId</th>\n",
              "      <th>movieId</th>\n",
              "      <th>rating</th>\n",
              "      <th>timestamp</th>\n",
              "    </tr>\n",
              "  </thead>\n",
              "  <tbody>\n",
              "    <tr>\n",
              "      <th>0</th>\n",
              "      <td>1</td>\n",
              "      <td>1</td>\n",
              "      <td>4.0</td>\n",
              "      <td>964982703</td>\n",
              "    </tr>\n",
              "    <tr>\n",
              "      <th>1</th>\n",
              "      <td>1</td>\n",
              "      <td>3</td>\n",
              "      <td>4.0</td>\n",
              "      <td>964981247</td>\n",
              "    </tr>\n",
              "    <tr>\n",
              "      <th>2</th>\n",
              "      <td>1</td>\n",
              "      <td>6</td>\n",
              "      <td>4.0</td>\n",
              "      <td>964982224</td>\n",
              "    </tr>\n",
              "    <tr>\n",
              "      <th>3</th>\n",
              "      <td>1</td>\n",
              "      <td>47</td>\n",
              "      <td>5.0</td>\n",
              "      <td>964983815</td>\n",
              "    </tr>\n",
              "    <tr>\n",
              "      <th>4</th>\n",
              "      <td>1</td>\n",
              "      <td>50</td>\n",
              "      <td>5.0</td>\n",
              "      <td>964982931</td>\n",
              "    </tr>\n",
              "  </tbody>\n",
              "</table>\n",
              "</div>\n",
              "      <button class=\"colab-df-convert\" onclick=\"convertToInteractive('df-cf618076-47bf-45fb-957e-3e75a690cd16')\"\n",
              "              title=\"Convert this dataframe to an interactive table.\"\n",
              "              style=\"display:none;\">\n",
              "        \n",
              "  <svg xmlns=\"http://www.w3.org/2000/svg\" height=\"24px\"viewBox=\"0 0 24 24\"\n",
              "       width=\"24px\">\n",
              "    <path d=\"M0 0h24v24H0V0z\" fill=\"none\"/>\n",
              "    <path d=\"M18.56 5.44l.94 2.06.94-2.06 2.06-.94-2.06-.94-.94-2.06-.94 2.06-2.06.94zm-11 1L8.5 8.5l.94-2.06 2.06-.94-2.06-.94L8.5 2.5l-.94 2.06-2.06.94zm10 10l.94 2.06.94-2.06 2.06-.94-2.06-.94-.94-2.06-.94 2.06-2.06.94z\"/><path d=\"M17.41 7.96l-1.37-1.37c-.4-.4-.92-.59-1.43-.59-.52 0-1.04.2-1.43.59L10.3 9.45l-7.72 7.72c-.78.78-.78 2.05 0 2.83L4 21.41c.39.39.9.59 1.41.59.51 0 1.02-.2 1.41-.59l7.78-7.78 2.81-2.81c.8-.78.8-2.07 0-2.86zM5.41 20L4 18.59l7.72-7.72 1.47 1.35L5.41 20z\"/>\n",
              "  </svg>\n",
              "      </button>\n",
              "      \n",
              "  <style>\n",
              "    .colab-df-container {\n",
              "      display:flex;\n",
              "      flex-wrap:wrap;\n",
              "      gap: 12px;\n",
              "    }\n",
              "\n",
              "    .colab-df-convert {\n",
              "      background-color: #E8F0FE;\n",
              "      border: none;\n",
              "      border-radius: 50%;\n",
              "      cursor: pointer;\n",
              "      display: none;\n",
              "      fill: #1967D2;\n",
              "      height: 32px;\n",
              "      padding: 0 0 0 0;\n",
              "      width: 32px;\n",
              "    }\n",
              "\n",
              "    .colab-df-convert:hover {\n",
              "      background-color: #E2EBFA;\n",
              "      box-shadow: 0px 1px 2px rgba(60, 64, 67, 0.3), 0px 1px 3px 1px rgba(60, 64, 67, 0.15);\n",
              "      fill: #174EA6;\n",
              "    }\n",
              "\n",
              "    [theme=dark] .colab-df-convert {\n",
              "      background-color: #3B4455;\n",
              "      fill: #D2E3FC;\n",
              "    }\n",
              "\n",
              "    [theme=dark] .colab-df-convert:hover {\n",
              "      background-color: #434B5C;\n",
              "      box-shadow: 0px 1px 3px 1px rgba(0, 0, 0, 0.15);\n",
              "      filter: drop-shadow(0px 1px 2px rgba(0, 0, 0, 0.3));\n",
              "      fill: #FFFFFF;\n",
              "    }\n",
              "  </style>\n",
              "\n",
              "      <script>\n",
              "        const buttonEl =\n",
              "          document.querySelector('#df-cf618076-47bf-45fb-957e-3e75a690cd16 button.colab-df-convert');\n",
              "        buttonEl.style.display =\n",
              "          google.colab.kernel.accessAllowed ? 'block' : 'none';\n",
              "\n",
              "        async function convertToInteractive(key) {\n",
              "          const element = document.querySelector('#df-cf618076-47bf-45fb-957e-3e75a690cd16');\n",
              "          const dataTable =\n",
              "            await google.colab.kernel.invokeFunction('convertToInteractive',\n",
              "                                                     [key], {});\n",
              "          if (!dataTable) return;\n",
              "\n",
              "          const docLinkHtml = 'Like what you see? Visit the ' +\n",
              "            '<a target=\"_blank\" href=https://colab.research.google.com/notebooks/data_table.ipynb>data table notebook</a>'\n",
              "            + ' to learn more about interactive tables.';\n",
              "          element.innerHTML = '';\n",
              "          dataTable['output_type'] = 'display_data';\n",
              "          await google.colab.output.renderOutput(dataTable, element);\n",
              "          const docLink = document.createElement('div');\n",
              "          docLink.innerHTML = docLinkHtml;\n",
              "          element.appendChild(docLink);\n",
              "        }\n",
              "      </script>\n",
              "    </div>\n",
              "  </div>\n",
              "  "
            ]
          },
          "metadata": {},
          "execution_count": 36
        }
      ],
      "source": [
        "ratings = pd.read_csv(dataset_dir+'ratings.csv',parse_dates=[\"timestamp\"])\n",
        "ratings.head()"
      ]
    },
    {
      "cell_type": "code",
      "source": [
        "print(\"Movie Shape: \" ,movies.shape )\n",
        "print(\"Ratings Shape: \" ,ratings.shape )\n",
        "\n",
        "print(\"Any null values in Movie:\" ,movies.isnull().values.any())\n",
        "print(\"Any null values in Ratings: \",ratings.isnull().values.any())\n",
        "\n",
        "\n",
        "print(\"How many null values in Which Movie's feature:\\n\" ,movies.isnull().sum())\n",
        "print(\"How many null values in Which Ratings's feature:\\n \",ratings.isnull().sum())\n"
      ],
      "metadata": {
        "colab": {
          "base_uri": "https://localhost:8080/"
        },
        "id": "nt5DHb6UlRlA",
        "outputId": "7f5c78ed-bda9-480e-8cf3-04fb24dc72b2"
      },
      "id": "nt5DHb6UlRlA",
      "execution_count": 37,
      "outputs": [
        {
          "output_type": "stream",
          "name": "stdout",
          "text": [
            "Movie Shape:  (9742, 3)\n",
            "Ratings Shape:  (100836, 4)\n",
            "Any null values in Movie: False\n",
            "Any null values in Ratings:  False\n",
            "How many null values in Which Movie's feature:\n",
            " movieId    0\n",
            "title      0\n",
            "genres     0\n",
            "dtype: int64\n",
            "How many null values in Which Ratings's feature:\n",
            "  userId       0\n",
            "movieId      0\n",
            "rating       0\n",
            "timestamp    0\n",
            "dtype: int64\n"
          ]
        }
      ]
    },
    {
      "cell_type": "markdown",
      "source": [
        "## Concanate Datasets"
      ],
      "metadata": {
        "id": "hDAOSzulkrB2"
      },
      "id": "hDAOSzulkrB2"
    },
    {
      "cell_type": "code",
      "source": [
        "# MovieID üzerinden kişilerin yorumlarına film isimlerini ve genrelerini ekliyoruz. \n",
        "df = pd.merge(ratings, movies, how='left', on='movieId')\n",
        "\n",
        "df.head()"
      ],
      "metadata": {
        "colab": {
          "base_uri": "https://localhost:8080/",
          "height": 206
        },
        "id": "Jsvc3Z4vkh4x",
        "outputId": "df81fb7b-bf97-4f0c-e2e7-00569faa8429"
      },
      "id": "Jsvc3Z4vkh4x",
      "execution_count": 38,
      "outputs": [
        {
          "output_type": "execute_result",
          "data": {
            "text/plain": [
              "   userId  movieId  rating  timestamp                        title  \\\n",
              "0       1        1     4.0  964982703             Toy Story (1995)   \n",
              "1       1        3     4.0  964981247      Grumpier Old Men (1995)   \n",
              "2       1        6     4.0  964982224                  Heat (1995)   \n",
              "3       1       47     5.0  964983815  Seven (a.k.a. Se7en) (1995)   \n",
              "4       1       50     5.0  964982931   Usual Suspects, The (1995)   \n",
              "\n",
              "                                        genres  \n",
              "0  Adventure|Animation|Children|Comedy|Fantasy  \n",
              "1                               Comedy|Romance  \n",
              "2                        Action|Crime|Thriller  \n",
              "3                             Mystery|Thriller  \n",
              "4                       Crime|Mystery|Thriller  "
            ],
            "text/html": [
              "\n",
              "  <div id=\"df-ae2a6922-6362-4f42-a375-e0a219cbd877\">\n",
              "    <div class=\"colab-df-container\">\n",
              "      <div>\n",
              "<style scoped>\n",
              "    .dataframe tbody tr th:only-of-type {\n",
              "        vertical-align: middle;\n",
              "    }\n",
              "\n",
              "    .dataframe tbody tr th {\n",
              "        vertical-align: top;\n",
              "    }\n",
              "\n",
              "    .dataframe thead th {\n",
              "        text-align: right;\n",
              "    }\n",
              "</style>\n",
              "<table border=\"1\" class=\"dataframe\">\n",
              "  <thead>\n",
              "    <tr style=\"text-align: right;\">\n",
              "      <th></th>\n",
              "      <th>userId</th>\n",
              "      <th>movieId</th>\n",
              "      <th>rating</th>\n",
              "      <th>timestamp</th>\n",
              "      <th>title</th>\n",
              "      <th>genres</th>\n",
              "    </tr>\n",
              "  </thead>\n",
              "  <tbody>\n",
              "    <tr>\n",
              "      <th>0</th>\n",
              "      <td>1</td>\n",
              "      <td>1</td>\n",
              "      <td>4.0</td>\n",
              "      <td>964982703</td>\n",
              "      <td>Toy Story (1995)</td>\n",
              "      <td>Adventure|Animation|Children|Comedy|Fantasy</td>\n",
              "    </tr>\n",
              "    <tr>\n",
              "      <th>1</th>\n",
              "      <td>1</td>\n",
              "      <td>3</td>\n",
              "      <td>4.0</td>\n",
              "      <td>964981247</td>\n",
              "      <td>Grumpier Old Men (1995)</td>\n",
              "      <td>Comedy|Romance</td>\n",
              "    </tr>\n",
              "    <tr>\n",
              "      <th>2</th>\n",
              "      <td>1</td>\n",
              "      <td>6</td>\n",
              "      <td>4.0</td>\n",
              "      <td>964982224</td>\n",
              "      <td>Heat (1995)</td>\n",
              "      <td>Action|Crime|Thriller</td>\n",
              "    </tr>\n",
              "    <tr>\n",
              "      <th>3</th>\n",
              "      <td>1</td>\n",
              "      <td>47</td>\n",
              "      <td>5.0</td>\n",
              "      <td>964983815</td>\n",
              "      <td>Seven (a.k.a. Se7en) (1995)</td>\n",
              "      <td>Mystery|Thriller</td>\n",
              "    </tr>\n",
              "    <tr>\n",
              "      <th>4</th>\n",
              "      <td>1</td>\n",
              "      <td>50</td>\n",
              "      <td>5.0</td>\n",
              "      <td>964982931</td>\n",
              "      <td>Usual Suspects, The (1995)</td>\n",
              "      <td>Crime|Mystery|Thriller</td>\n",
              "    </tr>\n",
              "  </tbody>\n",
              "</table>\n",
              "</div>\n",
              "      <button class=\"colab-df-convert\" onclick=\"convertToInteractive('df-ae2a6922-6362-4f42-a375-e0a219cbd877')\"\n",
              "              title=\"Convert this dataframe to an interactive table.\"\n",
              "              style=\"display:none;\">\n",
              "        \n",
              "  <svg xmlns=\"http://www.w3.org/2000/svg\" height=\"24px\"viewBox=\"0 0 24 24\"\n",
              "       width=\"24px\">\n",
              "    <path d=\"M0 0h24v24H0V0z\" fill=\"none\"/>\n",
              "    <path d=\"M18.56 5.44l.94 2.06.94-2.06 2.06-.94-2.06-.94-.94-2.06-.94 2.06-2.06.94zm-11 1L8.5 8.5l.94-2.06 2.06-.94-2.06-.94L8.5 2.5l-.94 2.06-2.06.94zm10 10l.94 2.06.94-2.06 2.06-.94-2.06-.94-.94-2.06-.94 2.06-2.06.94z\"/><path d=\"M17.41 7.96l-1.37-1.37c-.4-.4-.92-.59-1.43-.59-.52 0-1.04.2-1.43.59L10.3 9.45l-7.72 7.72c-.78.78-.78 2.05 0 2.83L4 21.41c.39.39.9.59 1.41.59.51 0 1.02-.2 1.41-.59l7.78-7.78 2.81-2.81c.8-.78.8-2.07 0-2.86zM5.41 20L4 18.59l7.72-7.72 1.47 1.35L5.41 20z\"/>\n",
              "  </svg>\n",
              "      </button>\n",
              "      \n",
              "  <style>\n",
              "    .colab-df-container {\n",
              "      display:flex;\n",
              "      flex-wrap:wrap;\n",
              "      gap: 12px;\n",
              "    }\n",
              "\n",
              "    .colab-df-convert {\n",
              "      background-color: #E8F0FE;\n",
              "      border: none;\n",
              "      border-radius: 50%;\n",
              "      cursor: pointer;\n",
              "      display: none;\n",
              "      fill: #1967D2;\n",
              "      height: 32px;\n",
              "      padding: 0 0 0 0;\n",
              "      width: 32px;\n",
              "    }\n",
              "\n",
              "    .colab-df-convert:hover {\n",
              "      background-color: #E2EBFA;\n",
              "      box-shadow: 0px 1px 2px rgba(60, 64, 67, 0.3), 0px 1px 3px 1px rgba(60, 64, 67, 0.15);\n",
              "      fill: #174EA6;\n",
              "    }\n",
              "\n",
              "    [theme=dark] .colab-df-convert {\n",
              "      background-color: #3B4455;\n",
              "      fill: #D2E3FC;\n",
              "    }\n",
              "\n",
              "    [theme=dark] .colab-df-convert:hover {\n",
              "      background-color: #434B5C;\n",
              "      box-shadow: 0px 1px 3px 1px rgba(0, 0, 0, 0.15);\n",
              "      filter: drop-shadow(0px 1px 2px rgba(0, 0, 0, 0.3));\n",
              "      fill: #FFFFFF;\n",
              "    }\n",
              "  </style>\n",
              "\n",
              "      <script>\n",
              "        const buttonEl =\n",
              "          document.querySelector('#df-ae2a6922-6362-4f42-a375-e0a219cbd877 button.colab-df-convert');\n",
              "        buttonEl.style.display =\n",
              "          google.colab.kernel.accessAllowed ? 'block' : 'none';\n",
              "\n",
              "        async function convertToInteractive(key) {\n",
              "          const element = document.querySelector('#df-ae2a6922-6362-4f42-a375-e0a219cbd877');\n",
              "          const dataTable =\n",
              "            await google.colab.kernel.invokeFunction('convertToInteractive',\n",
              "                                                     [key], {});\n",
              "          if (!dataTable) return;\n",
              "\n",
              "          const docLinkHtml = 'Like what you see? Visit the ' +\n",
              "            '<a target=\"_blank\" href=https://colab.research.google.com/notebooks/data_table.ipynb>data table notebook</a>'\n",
              "            + ' to learn more about interactive tables.';\n",
              "          element.innerHTML = '';\n",
              "          dataTable['output_type'] = 'display_data';\n",
              "          await google.colab.output.renderOutput(dataTable, element);\n",
              "          const docLink = document.createElement('div');\n",
              "          docLink.innerHTML = docLinkHtml;\n",
              "          element.appendChild(docLink);\n",
              "        }\n",
              "      </script>\n",
              "    </div>\n",
              "  </div>\n",
              "  "
            ]
          },
          "metadata": {},
          "execution_count": 38
        }
      ]
    },
    {
      "cell_type": "code",
      "source": [
        "# fro faster processing of large size data \n",
        "# we save it as a parquet file or pickle file\n",
        "# but parquet  takes up less space \n",
        "df.to_parquet(\"ratesmovies.parquet\",compression=\"gzip\") \n",
        "df.to_pickle(\"ratesmovies.pickle\")"
      ],
      "metadata": {
        "id": "2KNQYrOHq371"
      },
      "id": "2KNQYrOHq371",
      "execution_count": 39,
      "outputs": []
    },
    {
      "cell_type": "code",
      "source": [
        "rating_movie=pd.read_parquet(\"ratesmovies.parquet\")"
      ],
      "metadata": {
        "id": "qbnWqw05rM0L"
      },
      "id": "qbnWqw05rM0L",
      "execution_count": 40,
      "outputs": []
    },
    {
      "cell_type": "markdown",
      "source": [
        "## Exploratary Data analysis"
      ],
      "metadata": {
        "id": "phdmUzFBpLN2"
      },
      "id": "phdmUzFBpLN2"
    },
    {
      "cell_type": "code",
      "source": [
        "rating_movie.info()"
      ],
      "metadata": {
        "colab": {
          "base_uri": "https://localhost:8080/"
        },
        "id": "XRVcPn93rjrJ",
        "outputId": "a901aa74-e069-4f6c-8638-15a88fbbbab0"
      },
      "id": "XRVcPn93rjrJ",
      "execution_count": 41,
      "outputs": [
        {
          "output_type": "stream",
          "name": "stdout",
          "text": [
            "<class 'pandas.core.frame.DataFrame'>\n",
            "Int64Index: 100836 entries, 0 to 100835\n",
            "Data columns (total 6 columns):\n",
            " #   Column     Non-Null Count   Dtype  \n",
            "---  ------     --------------   -----  \n",
            " 0   userId     100836 non-null  int64  \n",
            " 1   movieId    100836 non-null  int64  \n",
            " 2   rating     100836 non-null  float64\n",
            " 3   timestamp  100836 non-null  object \n",
            " 4   title      100836 non-null  object \n",
            " 5   genres     100836 non-null  object \n",
            "dtypes: float64(1), int64(2), object(3)\n",
            "memory usage: 5.4+ MB\n"
          ]
        }
      ]
    },
    {
      "cell_type": "code",
      "source": [
        "rating_movie.describe()"
      ],
      "metadata": {
        "colab": {
          "base_uri": "https://localhost:8080/",
          "height": 300
        },
        "id": "onncV0rDpRAC",
        "outputId": "63c0af12-c640-43a4-f235-13e04b74b861"
      },
      "id": "onncV0rDpRAC",
      "execution_count": 42,
      "outputs": [
        {
          "output_type": "execute_result",
          "data": {
            "text/plain": [
              "              userId        movieId         rating\n",
              "count  100836.000000  100836.000000  100836.000000\n",
              "mean      326.127564   19435.295718       3.501557\n",
              "std       182.618491   35530.987199       1.042529\n",
              "min         1.000000       1.000000       0.500000\n",
              "25%       177.000000    1199.000000       3.000000\n",
              "50%       325.000000    2991.000000       3.500000\n",
              "75%       477.000000    8122.000000       4.000000\n",
              "max       610.000000  193609.000000       5.000000"
            ],
            "text/html": [
              "\n",
              "  <div id=\"df-ceb23b85-69ec-4d70-ad75-637f56101997\">\n",
              "    <div class=\"colab-df-container\">\n",
              "      <div>\n",
              "<style scoped>\n",
              "    .dataframe tbody tr th:only-of-type {\n",
              "        vertical-align: middle;\n",
              "    }\n",
              "\n",
              "    .dataframe tbody tr th {\n",
              "        vertical-align: top;\n",
              "    }\n",
              "\n",
              "    .dataframe thead th {\n",
              "        text-align: right;\n",
              "    }\n",
              "</style>\n",
              "<table border=\"1\" class=\"dataframe\">\n",
              "  <thead>\n",
              "    <tr style=\"text-align: right;\">\n",
              "      <th></th>\n",
              "      <th>userId</th>\n",
              "      <th>movieId</th>\n",
              "      <th>rating</th>\n",
              "    </tr>\n",
              "  </thead>\n",
              "  <tbody>\n",
              "    <tr>\n",
              "      <th>count</th>\n",
              "      <td>100836.000000</td>\n",
              "      <td>100836.000000</td>\n",
              "      <td>100836.000000</td>\n",
              "    </tr>\n",
              "    <tr>\n",
              "      <th>mean</th>\n",
              "      <td>326.127564</td>\n",
              "      <td>19435.295718</td>\n",
              "      <td>3.501557</td>\n",
              "    </tr>\n",
              "    <tr>\n",
              "      <th>std</th>\n",
              "      <td>182.618491</td>\n",
              "      <td>35530.987199</td>\n",
              "      <td>1.042529</td>\n",
              "    </tr>\n",
              "    <tr>\n",
              "      <th>min</th>\n",
              "      <td>1.000000</td>\n",
              "      <td>1.000000</td>\n",
              "      <td>0.500000</td>\n",
              "    </tr>\n",
              "    <tr>\n",
              "      <th>25%</th>\n",
              "      <td>177.000000</td>\n",
              "      <td>1199.000000</td>\n",
              "      <td>3.000000</td>\n",
              "    </tr>\n",
              "    <tr>\n",
              "      <th>50%</th>\n",
              "      <td>325.000000</td>\n",
              "      <td>2991.000000</td>\n",
              "      <td>3.500000</td>\n",
              "    </tr>\n",
              "    <tr>\n",
              "      <th>75%</th>\n",
              "      <td>477.000000</td>\n",
              "      <td>8122.000000</td>\n",
              "      <td>4.000000</td>\n",
              "    </tr>\n",
              "    <tr>\n",
              "      <th>max</th>\n",
              "      <td>610.000000</td>\n",
              "      <td>193609.000000</td>\n",
              "      <td>5.000000</td>\n",
              "    </tr>\n",
              "  </tbody>\n",
              "</table>\n",
              "</div>\n",
              "      <button class=\"colab-df-convert\" onclick=\"convertToInteractive('df-ceb23b85-69ec-4d70-ad75-637f56101997')\"\n",
              "              title=\"Convert this dataframe to an interactive table.\"\n",
              "              style=\"display:none;\">\n",
              "        \n",
              "  <svg xmlns=\"http://www.w3.org/2000/svg\" height=\"24px\"viewBox=\"0 0 24 24\"\n",
              "       width=\"24px\">\n",
              "    <path d=\"M0 0h24v24H0V0z\" fill=\"none\"/>\n",
              "    <path d=\"M18.56 5.44l.94 2.06.94-2.06 2.06-.94-2.06-.94-.94-2.06-.94 2.06-2.06.94zm-11 1L8.5 8.5l.94-2.06 2.06-.94-2.06-.94L8.5 2.5l-.94 2.06-2.06.94zm10 10l.94 2.06.94-2.06 2.06-.94-2.06-.94-.94-2.06-.94 2.06-2.06.94z\"/><path d=\"M17.41 7.96l-1.37-1.37c-.4-.4-.92-.59-1.43-.59-.52 0-1.04.2-1.43.59L10.3 9.45l-7.72 7.72c-.78.78-.78 2.05 0 2.83L4 21.41c.39.39.9.59 1.41.59.51 0 1.02-.2 1.41-.59l7.78-7.78 2.81-2.81c.8-.78.8-2.07 0-2.86zM5.41 20L4 18.59l7.72-7.72 1.47 1.35L5.41 20z\"/>\n",
              "  </svg>\n",
              "      </button>\n",
              "      \n",
              "  <style>\n",
              "    .colab-df-container {\n",
              "      display:flex;\n",
              "      flex-wrap:wrap;\n",
              "      gap: 12px;\n",
              "    }\n",
              "\n",
              "    .colab-df-convert {\n",
              "      background-color: #E8F0FE;\n",
              "      border: none;\n",
              "      border-radius: 50%;\n",
              "      cursor: pointer;\n",
              "      display: none;\n",
              "      fill: #1967D2;\n",
              "      height: 32px;\n",
              "      padding: 0 0 0 0;\n",
              "      width: 32px;\n",
              "    }\n",
              "\n",
              "    .colab-df-convert:hover {\n",
              "      background-color: #E2EBFA;\n",
              "      box-shadow: 0px 1px 2px rgba(60, 64, 67, 0.3), 0px 1px 3px 1px rgba(60, 64, 67, 0.15);\n",
              "      fill: #174EA6;\n",
              "    }\n",
              "\n",
              "    [theme=dark] .colab-df-convert {\n",
              "      background-color: #3B4455;\n",
              "      fill: #D2E3FC;\n",
              "    }\n",
              "\n",
              "    [theme=dark] .colab-df-convert:hover {\n",
              "      background-color: #434B5C;\n",
              "      box-shadow: 0px 1px 3px 1px rgba(0, 0, 0, 0.15);\n",
              "      filter: drop-shadow(0px 1px 2px rgba(0, 0, 0, 0.3));\n",
              "      fill: #FFFFFF;\n",
              "    }\n",
              "  </style>\n",
              "\n",
              "      <script>\n",
              "        const buttonEl =\n",
              "          document.querySelector('#df-ceb23b85-69ec-4d70-ad75-637f56101997 button.colab-df-convert');\n",
              "        buttonEl.style.display =\n",
              "          google.colab.kernel.accessAllowed ? 'block' : 'none';\n",
              "\n",
              "        async function convertToInteractive(key) {\n",
              "          const element = document.querySelector('#df-ceb23b85-69ec-4d70-ad75-637f56101997');\n",
              "          const dataTable =\n",
              "            await google.colab.kernel.invokeFunction('convertToInteractive',\n",
              "                                                     [key], {});\n",
              "          if (!dataTable) return;\n",
              "\n",
              "          const docLinkHtml = 'Like what you see? Visit the ' +\n",
              "            '<a target=\"_blank\" href=https://colab.research.google.com/notebooks/data_table.ipynb>data table notebook</a>'\n",
              "            + ' to learn more about interactive tables.';\n",
              "          element.innerHTML = '';\n",
              "          dataTable['output_type'] = 'display_data';\n",
              "          await google.colab.output.renderOutput(dataTable, element);\n",
              "          const docLink = document.createElement('div');\n",
              "          docLink.innerHTML = docLinkHtml;\n",
              "          element.appendChild(docLink);\n",
              "        }\n",
              "      </script>\n",
              "    </div>\n",
              "  </div>\n",
              "  "
            ]
          },
          "metadata": {},
          "execution_count": 42
        }
      ]
    },
    {
      "cell_type": "code",
      "source": [
        "rating_movie.rating.value_counts()"
      ],
      "metadata": {
        "colab": {
          "base_uri": "https://localhost:8080/"
        },
        "id": "VYefSi70sm4N",
        "outputId": "1a3b56d2-83c3-475e-bc3d-bd3e6555dc3b"
      },
      "id": "VYefSi70sm4N",
      "execution_count": 43,
      "outputs": [
        {
          "output_type": "execute_result",
          "data": {
            "text/plain": [
              "4.0    26818\n",
              "3.0    20047\n",
              "5.0    13211\n",
              "3.5    13136\n",
              "4.5     8551\n",
              "2.0     7551\n",
              "2.5     5550\n",
              "1.0     2811\n",
              "1.5     1791\n",
              "0.5     1370\n",
              "Name: rating, dtype: int64"
            ]
          },
          "metadata": {},
          "execution_count": 43
        }
      ]
    },
    {
      "cell_type": "code",
      "source": [
        "def plotHistogram(degisken):\n",
        "    plt.figure(figsize=(12,8))\n",
        "    plt.hist(rating_movie[degisken],bins=40,color=\"green\",density=True)\n",
        "    plt.xlabel(degisken)\n",
        "    plt.ylabel(\"Frekans\")\n",
        "    plt.title(\"Veri Sıklığı - {}\".format(degisken))\n",
        "    plt.show()\n",
        "\n",
        "sayisal_degisken=rating_movie.select_dtypes([np.number]).columns\n",
        "for i in sayisal_degisken:\n",
        "    plotHistogram(i)"
      ],
      "metadata": {
        "colab": {
          "base_uri": "https://localhost:8080/",
          "height": 1000
        },
        "id": "54fn42NpvvHL",
        "outputId": "6c02e1fd-34ad-49a2-e977-d7d1ee5bcc9f"
      },
      "id": "54fn42NpvvHL",
      "execution_count": 48,
      "outputs": [
        {
          "output_type": "display_data",
          "data": {
            "text/plain": [
              "<Figure size 864x576 with 1 Axes>"
            ],
            "image/png": "[encoded data removed]"
          },
          "metadata": {
            "needs_background": "light"
          }
        },
        {
          "output_type": "display_data",
          "data": {
            "text/plain": [
              "<Figure size 864x576 with 1 Axes>"
            ],
            "image/png": "[encoded data removed]"
          },
          "metadata": {
            "needs_background": "light"
          }
        },
        {
          "output_type": "display_data",
          "data": {
            "text/plain": [
              "<Figure size 864x576 with 1 Axes>"
            ],
            "image/png": "[encoded data removed]"
          },
          "metadata": {
            "needs_background": "light"
          }
        }
      ]
    },
    {
      "cell_type": "code",
      "source": [
        "def plotbox(numericvar):\n",
        "    # setting the dimensions of the plot\n",
        "    fig, ax = plt.subplots(figsize=(20, 5))\n",
        "    sns.boxplot(x=rating_movie[numericvar])\n",
        "    plt.title(f\"{numericvar} Değişkeni İçin Kutu Grafiği(only Numeric(nicel-quantitative data))\")\n",
        "    plt.xlabel(numericvar)\n",
        "    plt.ylabel(\"Değerler\")\n",
        "    plt.show()\n",
        "for var in rating_movie.select_dtypes(exclude=[\"object\",\"category\",\"datetime\"]).columns:\n",
        "    plotbox(var)"
      ],
      "metadata": {
        "colab": {
          "base_uri": "https://localhost:8080/",
          "height": 797
        },
        "id": "vkdGZoEvxYN5",
        "outputId": "e697b35a-1617-4cdc-90cf-d86b513125e9"
      },
      "id": "vkdGZoEvxYN5",
      "execution_count": 49,
      "outputs": [
        {
          "output_type": "display_data",
          "data": {
            "text/plain": [
              "<Figure size 1440x360 with 1 Axes>"
            ],
            "image/png": "[encoded data removed]"
          },
          "metadata": {
            "needs_background": "light"
          }
        },
        {
          "output_type": "display_data",
          "data": {
            "text/plain": [
              "<Figure size 1440x360 with 1 Axes>"
            ],
            "image/png": "[encoded data removed]"
          },
          "metadata": {
            "needs_background": "light"
          }
        },
        {
          "output_type": "display_data",
          "data": {
            "text/plain": [
              "<Figure size 1440x360 with 1 Axes>"
            ],
            "image/png": "[encoded data removed]"
          },
          "metadata": {
            "needs_background": "light"
          }
        }
      ]
    },
    {
      "cell_type": "code",
      "source": [
        "plt.figure(figsize=(25,15))\n",
        "sns.set_style(style=\"whitegrid\")\n",
        "\n",
        "g = sns.PairGrid(rating_movie, hue=\"rating\")\n",
        "g.map_diag(sns.histplot)\n",
        "g.map_offdiag(sns.scatterplot)\n",
        "g.add_legend()"
      ],
      "metadata": {
        "colab": {
          "base_uri": "https://localhost:8080/",
          "height": 405
        },
        "id": "915hFQTkyMJO",
        "outputId": "3575838d-e291-47ec-ecef-278c524e29cd"
      },
      "id": "915hFQTkyMJO",
      "execution_count": 56,
      "outputs": [
        {
          "output_type": "execute_result",
          "data": {
            "text/plain": [
              "<seaborn.axisgrid.PairGrid at 0x7fac8b202f90>"
            ]
          },
          "metadata": {},
          "execution_count": 56
        },
        {
          "output_type": "display_data",
          "data": {
            "text/plain": [
              "<Figure size 1800x1080 with 0 Axes>"
            ]
          },
          "metadata": {}
        },
        {
          "output_type": "display_data",
          "data": {
            "text/plain": [
              "<Figure size 412x360 with 6 Axes>"
            ],
            "image/png": "[encoded data removed]"
          },
          "metadata": {}
        }
      ]
    },
    {
      "cell_type": "markdown",
      "source": [
        "## Preprocessing"
      ],
      "metadata": {
        "id": "KlyNhcbKmxLh"
      },
      "id": "KlyNhcbKmxLh"
    },
    {
      "cell_type": "code",
      "source": [
        "def preprocess(df):\n",
        "  df=df.copy()\n",
        "  df.dropna(inplace=True)\n",
        "  df.reset_index(drop=True,inplace=True)\n",
        "  df.drop(index=df[df[\"Book-Rating\"]==0].index,inplace=True)\n",
        "  df[\"title\"]=df[\"title\"].apply(lambda x: re.sub(\"[\\W_]+\",\" \",x).strip())\n",
        "  df.head()"
      ],
      "metadata": {
        "id": "7w3jvENHmzqB"
      },
      "id": "7w3jvENHmzqB",
      "execution_count": null,
      "outputs": []
    },
    {
      "cell_type": "markdown",
      "source": [
        "## ITEM-BASED COLLABORATIVE FILTERING"
      ],
      "metadata": {
        "id": "ZjSIjP9OoUxI"
      },
      "id": "ZjSIjP9OoUxI"
    },
    {
      "cell_type": "code",
      "source": [
        "\n",
        "def item_based(bookTitle):\n",
        "    bookTitle=str(bookTitle)\n",
        "    \n",
        "    if bookTitle in df[\"Book-Title\"].values:\n",
        "        rating_count=pd.DataFrame(df[\"Book-Title\"].value_counts())\n",
        "        rare_books=rating_count[rating_count[\"Book-Title\"]<=200].index\n",
        "        common_books=df[~df[\"Book-Title\"].isin(rare_books)]\n",
        "        \n",
        "        if bookTitle in rare_books:\n",
        "            most_common=pd.Series(common_books[\"Book-Title\"].unique()).sample(3).values\n",
        "            print(\"No Recommendations for this Book ☹️ \\n \")\n",
        "            print(\"YOU MAY TRY: \\n \")\n",
        "            print(\"{}\".format(most_common[0]), \"\\n\")\n",
        "            print(\"{}\".format(most_common[1]), \"\\n\")\n",
        "            print(\"{}\".format(most_common[2]), \"\\n\")\n",
        "        else:\n",
        "            common_books_pivot=common_books.pivot_table(index=[\"User-ID\"],columns=[\"Book-Title\"],values=\"Book-Rating\")\n",
        "            title=common_books_pivot[bookTitle]\n",
        "            recommendation_df=pd.DataFrame(common_books_pivot.corrwith(title).sort_values(ascending=False)).reset_index(drop=False)\n",
        "            \n",
        "            if bookTitle in [title for title in recommendation_df[\"Book-Title\"]]:\n",
        "                recommendation_df=recommendation_df.drop(recommendation_df[recommendation_df[\"Book-Title\"]==bookTitle].index[0])\n",
        "                \n",
        "            less_rating=[]\n",
        "            for i in recommendation_df[\"Book-Title\"]:\n",
        "                if df[df[\"Book-Title\"]==i][\"Book-Rating\"].mean() < 5:\n",
        "                    less_rating.append(i)\n",
        "            if recommendation_df.shape[0] - len(less_rating) > 5:\n",
        "                recommendation_df=recommendation_df[~recommendation_df[\"Book-Title\"].isin(less_rating)]\n",
        "                \n",
        "            recommendation_df=recommendation_df[0:5]\n",
        "            recommendation_df.columns=[\"Book-Title\",\"Correlation\"]\n",
        "            \n",
        "            fig, ax = plt.subplots(1,5,figsize=(17,5))\n",
        "            fig.suptitle(\"WOULD YOU LIKE to TRY THESE BOOKS?\",fontsize=40,color=\"deepskyblue\")\n",
        "            for i in range(len(recommendation_df[\"Book-Title\"].tolist())):\n",
        "                url=df.loc[df[\"Book-Title\"]==recommendation_df[\"Book-Title\"].tolist()[i],\"Image-URL-L\"][:1].values[0]\n",
        "                img=Image.open(requests.get(url,stream=True).raw)\n",
        "                ax[i].imshow(img)\n",
        "                ax[i].axis(\"off\")\n",
        "                ax[i].set_title(\"RATING: {} \".format(round(df[df[\"Book-Title\"]==recommendation_df[\"Book-Title\"].tolist()[i]][\"Book-Rating\"].mean(),1)),y=-0.20,color=\"mediumorchid\",fontsize=22)\n",
        "                fig.show()\n",
        "    else:\n",
        "        print(\"❌ COULD NOT FIND ❌\")"
      ],
      "metadata": {
        "id": "Y6bw_uN2mkud"
      },
      "id": "Y6bw_uN2mkud",
      "execution_count": null,
      "outputs": []
    },
    {
      "cell_type": "markdown",
      "source": [
        "## CONTENT-BASED COLLABORATIVE FILTERING"
      ],
      "metadata": {
        "id": "xLNe2p0VpnFU"
      },
      "id": "xLNe2p0VpnFU"
    },
    {
      "cell_type": "code",
      "source": [
        "\n",
        "def content_based(bookTitle):\n",
        "    bookTitle=str(bookTitle)\n",
        "    \n",
        "    if bookTitle in df[\"Book-Title\"].values:\n",
        "        rating_count=pd.DataFrame(df[\"Book-Title\"].value_counts())\n",
        "        rare_books=rating_count[rating_count[\"Book-Title\"]<=200].index\n",
        "        common_books=df[~df[\"Book-Title\"].isin(rare_books)]\n",
        "        \n",
        "        if bookTitle in rare_books:\n",
        "            most_common=pd.Series(common_books[\"Book-Title\"].unique()).sample(3).values\n",
        "            print(\"No Recommendations for this Book ☹️ \\n \")\n",
        "            print(\"YOU MAY TRY: \\n \")\n",
        "            print(\"{}\".format(most_common[0]), \"\\n\")\n",
        "            print(\"{}\".format(most_common[1]), \"\\n\")\n",
        "            print(\"{}\".format(most_common[2]), \"\\n\")\n",
        "        else:\n",
        "            common_books=common_books.drop_duplicates(subset=[\"Book-Title\"])\n",
        "            common_books.reset_index(inplace=True)\n",
        "            common_books[\"index\"]=[i for i in range(common_books.shape[0])]\n",
        "            targets=[\"Book-Title\",\"Book-Author\",\"Publisher\"]\n",
        "            common_books[\"all_features\"] = [\" \".join(common_books[targets].iloc[i,].values) for i in range(common_books[targets].shape[0])]\n",
        "            vectorizer=CountVectorizer()\n",
        "            common_booksVector=vectorizer.fit_transform(common_books[\"all_features\"])\n",
        "            similarity=cosine_similarity(common_booksVector)\n",
        "            index=common_books[common_books[\"Book-Title\"]==bookTitle][\"index\"].values[0]\n",
        "            similar_books=list(enumerate(similarity[index]))\n",
        "            similar_booksSorted=sorted(similar_books,key=lambda x:x[1],reverse=True)[1:6]\n",
        "            books=[]\n",
        "            for i in range(len(similar_booksSorted)):\n",
        "                \n",
        "                books.append(common_books[common_books[\"index\"]==similar_booksSorted[i][0]][\"Book-Title\"].item())\n",
        "            fig,ax=plt.subplots(1,5,figsize=(17,5))\n",
        "            fig.suptitle(\"YOU MAY ALSO LIKE THESE BOOKS\",fontsize=40,color=\"chocolate\")\n",
        "                \n",
        "            for i in range(len(books)):\n",
        "                \n",
        "                url=common_books.loc[common_books[\"Book-Title\"]==books[i],\"Image-URL-L\"][:1].values[0]\n",
        "                img=Image.open(requests.get(url,stream=True).raw)\n",
        "                ax[i].imshow(img)\n",
        "                ax[i].axis(\"off\")\n",
        "                ax[i].set_title(\"RATING: {}\".format(round(df[df[\"Book-Title\"]==books[i]][\"Book-Rating\"].mean(),1)),y=-0.20,color=\"mediumorchid\",fontsize=22)\n",
        "                fig.show()\n",
        "\n",
        "    else:\n",
        "        print(\"❌ COULD NOT FIND ❌\")     "
      ],
      "metadata": {
        "id": "UmZ3_2M5pnk1"
      },
      "id": "UmZ3_2M5pnk1",
      "execution_count": null,
      "outputs": []
    }
  ],
  "metadata": {
    "kernelspec": {
      "display_name": "Python 3",
      "language": "python",
      "name": "python3"
    },
    "language_info": {
      "codemirror_mode": {
        "name": "ipython",
        "version": 3
      },
      "file_extension": ".py",
      "mimetype": "text/x-python",
      "name": "python",
      "nbconvert_exporter": "python",
      "pygments_lexer": "ipython3",
      "version": "3.7.12"
    },
    "papermill": {
      "default_parameters": {},
      "duration": 26.647442,
      "end_time": "2022-10-24T14:49:56.859032",
      "environment_variables": {},
      "exception": true,
      "input_path": "__notebook__.ipynb",
      "output_path": "__notebook__.ipynb",
      "parameters": {},
      "start_time": "2022-10-24T14:49:30.211590",
      "version": "2.3.4"
    },
    "colab": {
      "provenance": [],
      "include_colab_link": true
    }
  },
  "nbformat": 4,
  "nbformat_minor": 5
}